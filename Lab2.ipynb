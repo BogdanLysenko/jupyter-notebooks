{
 "cells": [
  {
   "cell_type": "markdown",
   "metadata": {},
   "source": [
    "## Лабораторна робота №2, Варіант завдань 4\n",
    "## Виконав ст. гр. СТСА-17-1 Лисенко Б. С."
   ]
  },
  {
   "cell_type": "code",
   "execution_count": 1,
   "metadata": {},
   "outputs": [],
   "source": [
    "import numpy as np\n",
    "import matplotlib.pyplot as plt\n",
    "import seaborn as sns"
   ]
  },
  {
   "cell_type": "code",
   "execution_count": 2,
   "metadata": {},
   "outputs": [],
   "source": [
    "m = 4\n",
    "l = 3\n",
    "n = 6"
   ]
  },
  {
   "cell_type": "code",
   "execution_count": 3,
   "metadata": {},
   "outputs": [
    {
     "name": "stdout",
     "output_type": "stream",
     "text": [
      "Вивчено!\n"
     ]
    }
   ],
   "source": [
    "# 1. Вивчити основні поняття й характеристики СМО та методи їх моделю-\n",
    "# вання.\n",
    "\n",
    "print('Вивчено!')"
   ]
  },
  {
   "cell_type": "code",
   "execution_count": 4,
   "metadata": {},
   "outputs": [],
   "source": [
    "# 2. Написати систему диференціальних рівнянь Ерланга для СМО з \n",
    "# параметрами, обраними у відповідності зі своїм варіантом\n",
    "\n",
    "# Початкові умови\n",
    "P0 = [0.] * (n + 1)\n",
    "P0[0] = 1.\n",
    "\n",
    "# Похідні\n",
    "f0 = [lambda pk: -l * pk[0] + m * pk[1]]\n",
    "fk = [lambda pk, k = k: l * pk[k - 1] - (l + k * m) * pk[k] + (k + 1) * m * pk[k + 1]\n",
    "     for k in range(1, n)]\n",
    "fn = [lambda pk: l * pk[n - 1] - n * m * pk[n]]\n",
    "F = f0 + fk + fn"
   ]
  },
  {
   "cell_type": "code",
   "execution_count": 5,
   "metadata": {},
   "outputs": [],
   "source": [
    "# 3. Розв’язати  цю  систему  в  чисельному  виді  в  будь-якому  програмному \n",
    "# математичному пакеті (Mathematica й ін.) – отримати чисельні значення ймовір-\n",
    "# ностей  зайнятості числа каналів pk*\n",
    "\n",
    "# Для знаходження чисельного розв'язку системи викоритсаємо \n",
    "# метод Рунге-Кутти 4-го порядку\n",
    "\n",
    "# Довжина кроку\n",
    "h = 0.01\n",
    "T = np.arange(0, 10, h)\n",
    "Pk = np.empty([len(T), n + 1])\n",
    "Pk[0] = P0\n",
    "\n",
    "for i in range(1, len(T)):\n",
    "    k1 = np.array([F[k](Pk[i - 1]) for k in range(n + 1)])\n",
    "    k2 = np.array([F[k](Pk[i - 1] + k1 * h / 2) for k in range(n + 1)])\n",
    "    k3 = np.array([F[k](Pk[i - 1] + k2 * h / 2) for k in range(n + 1)])\n",
    "    k4 = np.array([F[k](Pk[i - 1] + k3 * h) for k in range(n + 1)])\n",
    "    Pk[i] = Pk[i - 1] + (k1 + 2 * k2 + 2 * k3 + k4) * h / 6"
   ]
  },
  {
   "cell_type": "code",
   "execution_count": 6,
   "metadata": {},
   "outputs": [
    {
     "data": {
      "text/plain": [
       "<matplotlib.legend.Legend at 0x208f3de0f40>"
      ]
     },
     "execution_count": 6,
     "metadata": {},
     "output_type": "execute_result"
    },
    {
     "data": {
      "image/png": "[encoded data removed]",
      "text/plain": [
       "<Figure size 864x432 with 1 Axes>"
      ]
     },
     "metadata": {
      "needs_background": "light"
     },
     "output_type": "display_data"
    }
   ],
   "source": [
    "plt.figure(figsize=(12,6))\n",
    "for k in range(n + 1):\n",
    "    plt.plot(T, Pk[:, k])\n",
    "plt.legend(['p{}'.format(k) for k in range(n + 1)])"
   ]
  },
  {
   "cell_type": "code",
   "execution_count": 7,
   "metadata": {},
   "outputs": [
    {
     "name": "stdout",
     "output_type": "stream",
     "text": [
      "Чисельні значення стаціонарних ймовірностей зайнятості k каналів:\n",
      "p0* = 0.4723730663164618\n",
      "p1* = 0.3542797997373457\n",
      "p2* = 0.1328549249015044\n",
      "p3* = 0.033213731225376075\n",
      "p4* = 0.0062275746047580115\n",
      "p5* = 0.0009341361907137016\n",
      "p6* = 0.00011676702383921267\n"
     ]
    }
   ],
   "source": [
    "print('Чисельні значення стаціонарних ймовірностей зайнятості k каналів:')\n",
    "num_p = np.array([Pk[-1, k] for k in range(n + 1)])\n",
    "for k in range(n + 1):\n",
    "    print('p{}* = {}'.format(k, num_p[k]))"
   ]
  },
  {
   "cell_type": "code",
   "execution_count": 8,
   "metadata": {},
   "outputs": [
    {
     "name": "stdout",
     "output_type": "stream",
     "text": [
      "p0* = 0.47237306631646164\n",
      "p1* = 0.35427979973734625\n",
      "p2* = 0.13285492490150483\n",
      "p3* = 0.03321373122537621\n",
      "p4* = 0.006227574604758039\n",
      "p5* = 0.0009341361907137058\n",
      "p6* = 0.00011676702383921323\n"
     ]
    }
   ],
   "source": [
    "# 4. Розрахувати теоретичні ймовірності pk* зайнятості числа каналів за фор-\n",
    "# мулами Ерланга\n",
    "\n",
    "def erlang_p(l, m, k):\n",
    "    a = l / m\n",
    "    return ((a ** k) / np.math.factorial(k)) /\\\n",
    "           np.sum([(a ** k) / np.math.factorial(k) for k in range(n + 1)])\n",
    "p_teor = np.array([erlang_p(l, m, k) for k in range(n + 1)])\n",
    "for k in range(n + 1):\n",
    "    print('p{}* = {}'.format(k, p_teor[k]))"
   ]
  },
  {
   "cell_type": "code",
   "execution_count": 9,
   "metadata": {},
   "outputs": [],
   "source": [
    "def model(l, m, n, T):\n",
    "    tin = [np.random.exponential(1 / l)]\n",
    "    while tin[-1] < T:\n",
    "        tin.append(tin[-1] + np.random.exponential(1 / l))\n",
    "    tin = np.array(tin) # Масив часових міток надходження заявок\n",
    "    tout = np.zeros(tin.shape) # Масив часових міток відпущення заявок\n",
    "    tservice = np.random.exponential(1 / m, tin.shape) # Час обслуговування\n",
    "    in_service = [] # Список заявок на обслуговуванні\n",
    "    in_waiting = [] # Список заявок у черзі\n",
    "\n",
    "    for i in range(len(tin)):\n",
    "        for j in in_service: # Звільнити канали, якщо потрібно\n",
    "            if tin[i] > tout[j]:\n",
    "                in_service.remove(j)\n",
    "                if len(in_waiting) > 0: # Якщо є черга, зайняти вільні канали\n",
    "                    in_service.append(in_waiting[0])\n",
    "                    in_waiting.pop(0)\n",
    "        if len(in_service) < n: # Якщо є вільні канали, виконати поточну\n",
    "            in_service.append(i)\n",
    "            tout[i] = tin[i] + tservice[i]\n",
    "        else: # Поставити поточну заявку в чергу\n",
    "            if len(in_waiting) == 0:\n",
    "                first_free = tout[in_service].min()\n",
    "            else:\n",
    "                first_free = tout[tout > tout[i - 1] - tservice[i - 1]].min()\n",
    "            tout[i] = first_free + tservice[i]\n",
    "            in_waiting.append(i)\n",
    "            \n",
    "    taccept = tout - tservice\n",
    "    taccept = np.concatenate([[taccept], [np.ones(taccept.shape[0])]])\n",
    "    taccept = taccept.T # Час прийняття на обслуговування\n",
    "    tout = np.concatenate([[tout], [np.ones(tout.shape[0]) * -1]])\n",
    "    tout = tout.T\n",
    "    general_flow = np.concatenate([taccept, tout])\n",
    "    general_flow = general_flow[general_flow[:, 0].argsort()]\n",
    "    general_flow[:, 1] = np.cumsum(general_flow[:, 1])\n",
    "    x = general_flow[:, 0]\n",
    "    y = general_flow[:, 1].astype(np.int64)\n",
    "    return (x, y)"
   ]
  },
  {
   "cell_type": "code",
   "execution_count": 10,
   "metadata": {},
   "outputs": [
    {
     "data": {
      "image/png": "[encoded data removed]",
      "text/plain": [
       "<Figure size 1080x1728 with 4 Axes>"
      ]
     },
     "metadata": {
      "needs_background": "light"
     },
     "output_type": "display_data"
    }
   ],
   "source": [
    "fig, ax = plt.subplots(nrows = 4, figsize=(15, 24))\n",
    "for axi in ax:\n",
    "    x, y =  model(l, m, n, 100)\n",
    "    axi.bar(x, y)"
   ]
  },
  {
   "cell_type": "code",
   "execution_count": 11,
   "metadata": {},
   "outputs": [
    {
     "name": "stdout",
     "output_type": "stream",
     "text": [
      "Експериментальні значення стаціонарних ймовірностей зайнятості k каналів:\n",
      "p0* = 0.4700698284780513\n",
      "p1* = 0.3506503862277219\n",
      "p2* = 0.13344485367309183\n",
      "p3* = 0.03864283719894418\n",
      "p4* = 0.006154374927069728\n",
      "p5* = 0.0008086359598819859\n",
      "p6* = 0.0\n"
     ]
    }
   ],
   "source": [
    "x, y =  model(l, m, n, 1000)\n",
    "hist = np.zeros(n + 1)\n",
    "for i in range(len(x) - 1):\n",
    "    hist[y[i]] += x[i + 1] - x[i]\n",
    "p_exp = hist / x.max()\n",
    "print('Експериментальні значення стаціонарних ймовірностей зайнятості k каналів:')\n",
    "for k in range(n + 1):\n",
    "    print('p{}* = {}'.format(k, p_exp[k]))"
   ]
  },
  {
   "cell_type": "code",
   "execution_count": 12,
   "metadata": {},
   "outputs": [
    {
     "name": "stdout",
     "output_type": "stream",
     "text": [
      "Відхилення теоретичних ймовірностей від експериментальних:\n",
      "e(p0*) = 0.0023032378384103547\n",
      "e(p1*) = 0.0036294135096243685\n",
      "e(p2*) = 0.0005899287715870061\n",
      "e(p3*) = 0.005429105973567973\n",
      "e(p4*) = 7.31996776883112e-05\n",
      "e(p5*) = 0.0001255002308317199\n",
      "e(p6*) = 0.00011676702383921323\n"
     ]
    }
   ],
   "source": [
    "# 6.  Порівняти  отримані  експериментальні  й  теоретичні  значення  ймовір-\n",
    "# ностей.\n",
    "\n",
    "err = np.abs(p_teor - p_exp)\n",
    "print('Відхилення теоретичних ймовірностей від експериментальних:')\n",
    "for k in range(n + 1):\n",
    "    print('e(p{}*) = {}'.format(k, err[k]))"
   ]
  },
  {
   "cell_type": "code",
   "execution_count": 13,
   "metadata": {},
   "outputs": [
    {
     "name": "stdout",
     "output_type": "stream",
     "text": [
      "1) імовірність відмови черговій заявці в обслуговуванні:  0.00011676702383921323\n",
      "2) імовірність того, що заявка буде прийнята на обслуговування (відносна пропускна здатність):  0.9998832329761608\n",
      "3) абсолютна пропускна здатність:  2.9996496989284824\n",
      "4) середнє число каналів, зайнятих обслуговуванням 0.7499124247321204\n",
      "5) імовірність того, що всі канали вільні:  0.47237306631646164\n",
      "6) імовірність того, що в системі перебуває рівно  k  вимог, тобто зайнято k  каналів:\n",
      "p1* = 0.35427979973734625\n",
      "p2* = 0.13285492490150483\n",
      "p3* = 0.03321373122537621\n",
      "p4* = 0.006227574604758039\n",
      "p5* = 0.0009341361907137058\n",
      "p6* = 0.00011676702383921323\n"
     ]
    }
   ],
   "source": [
    "# 7. Знайти основні характеристики СМО в стаціонарному режимі.\n",
    "\n",
    "p_decl = p_teor[n]\n",
    "q = 1 - p_decl\n",
    "A = l * q\n",
    "k_aver = np.sum([((l / m) ** k) * p_teor[0] / np.math.factorial(k - 1)\n",
    "                 for k in range(1, n + 1)])\n",
    "\n",
    "print('1) імовірність відмови черговій заявці в обслуговуванні: ',\n",
    "      p_teor[n])\n",
    "print('2) імовірність того, що заявка буде прийнята на \\\n",
    "обслуговування (відносна пропускна здатність): ',\n",
    "      1 - p_teor[n])\n",
    "print('3) абсолютна пропускна здатність: ', A)\n",
    "print('4) середнє число каналів, зайнятих обслуговуванням', k_aver)\n",
    "print('5) імовірність того, що всі канали вільні: ', p_teor[0])\n",
    "print('6) імовірність того, що в системі перебуває рівно  k  вимог, \\\n",
    "тобто зайнято k  каналів:')\n",
    "for k in range(1, n + 1):\n",
    "    print('p{}* = {}'.format(k, p_teor[k]))"
   ]
  },
  {
   "cell_type": "code",
   "execution_count": null,
   "metadata": {},
   "outputs": [],
   "source": []
  }
 ],
 "metadata": {
  "kernelspec": {
   "display_name": "Python 3",
   "language": "python",
   "name": "python3"
  },
  "language_info": {
   "codemirror_mode": {
    "name": "ipython",
    "version": 3
   },
   "file_extension": ".py",
   "mimetype": "text/x-python",
   "name": "python",
   "nbconvert_exporter": "python",
   "pygments_lexer": "ipython3",
   "version": "3.8.3"
  }
 },
 "nbformat": 4,
 "nbformat_minor": 4
}
